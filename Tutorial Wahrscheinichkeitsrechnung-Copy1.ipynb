{
 "cells": [
  {
   "cell_type": "markdown",
   "metadata": {},
   "source": [
    "### Tutorial Wahrscheinlichkeitsrechnung I\n",
    "\n",
    "Die folgenden Zellen mit Programmcode bitte ignorieren.."
   ]
  },
  {
   "cell_type": "code",
   "execution_count": 1,
   "metadata": {
    "collapsed": false
   },
   "outputs": [
    {
     "data": {
      "text/html": [
       "<style>\n",
       "#chart {\n",
       "  height: 500px;\n",
       "}\n",
       "\n",
       ".node rect {\n",
       "  cursor: move;\n",
       "  fill-opacity: .9;\n",
       "  shape-rendering: crispEdges;\n",
       "}\n",
       "\n",
       ".node text {\n",
       "  pointer-events: none;\n",
       "  text-shadow: 0 1px 0 #fff;\n",
       "}\n",
       "\n",
       ".link {\n",
       "  fill: none;\n",
       "  stroke: #000;\n",
       "  stroke-opacity: .2;\n",
       "}\n",
       "\n",
       ".link:hover {\n",
       "  stroke-opacity: .5;\n",
       "}\n",
       "</style>"
      ],
      "text/plain": [
       "<IPython.core.display.HTML object>"
      ]
     },
     "metadata": {},
     "output_type": "display_data"
    }
   ],
   "source": [
    "%%html\n",
    "<style>\n",
    "#chart {\n",
    "  height: 500px;\n",
    "}\n",
    "\n",
    ".node rect {\n",
    "  cursor: move;\n",
    "  fill-opacity: .9;\n",
    "  shape-rendering: crispEdges;\n",
    "}\n",
    "\n",
    ".node text {\n",
    "  pointer-events: none;\n",
    "  text-shadow: 0 1px 0 #fff;\n",
    "}\n",
    "\n",
    ".link {\n",
    "  fill: none;\n",
    "  stroke: #000;\n",
    "  stroke-opacity: .2;\n",
    "}\n",
    "\n",
    ".link:hover {\n",
    "  stroke-opacity: .5;\n",
    "}\n",
    "</style>"
   ]
  },
  {
   "cell_type": "code",
   "execution_count": 2,
   "metadata": {
    "collapsed": false
   },
   "outputs": [
    {
     "data": {
      "application/javascript": [
       "\n",
       "element.append('<script src=\"https://d3js.org/d3.v2.min.js\" charset=\"utf-8\"></script>');"
      ],
      "text/plain": [
       "<IPython.core.display.Javascript object>"
      ]
     },
     "metadata": {},
     "output_type": "display_data"
    }
   ],
   "source": [
    "%%javascript\n",
    "\n",
    "element.append('<script src=\"https://d3js.org/d3.v2.min.js\" charset=\"utf-8\"></script>');"
   ]
  },
  {
   "cell_type": "code",
   "execution_count": 3,
   "metadata": {
    "collapsed": false
   },
   "outputs": [
    {
     "data": {
      "application/javascript": [
       "element.append('<script src=\"https://bost.ocks.org/mike/sankey/sankey.js\"></script>');"
      ],
      "text/plain": [
       "<IPython.core.display.Javascript object>"
      ]
     },
     "metadata": {},
     "output_type": "display_data"
    }
   ],
   "source": [
    "%%javascript\n",
    "element.append('<script src=\"https://bost.ocks.org/mike/sankey/sankey.js\"></script>');"
   ]
  },
  {
   "cell_type": "markdown",
   "metadata": {},
   "source": [
    "### Tutorial Wahrscheinlichkeitsrechnung I\n",
    "\n",
    "\n",
    "In der Wahrscheinlichkeitsrechnung geht es um das rechnen mit sogenannten **Wahrscheinlichkeiten**. \n",
    "\n",
    "### Was ist eine Wahrscheinlichkeit ?\n",
    "\n",
    "Eine Wahrscheinlichkeit ist eine Zahl zwischen 0 und 1 (bzw. 0% und 100%), die den Grad der Unsicherheit ausdrückt ob ein Ereignis eintrifft oder nicht, bzw. den Grad der Unsicherheit ausdrückt ob eine bestimmte Information wahr oder falsch ist.\n",
    "\n",
    "#### Warum sollte ich Wahrscheinlichkeitsrechnung nutzen ?\n",
    "\n",
    "Wahrscheinlichkeitsrechnung ist, das kann man mathematisch beweisen, die einzige Methode mit der man, wenn man über unsichere oder unvollständige Informationen verfügt, völlig rationale Entscheidungen treffen kann bei denen man nicht von jemandem unfair über das Ohr gehauen werden kann der nicht über mehr Informationen verfügt als man selbst.\n",
    "\n",
    "Wenn man sich über alle Informationen sicher ist dann sind die Ergebnisse der Wahrscheinlichkeitsrechnung identisch zu den Ergebnissen klassischer Logik (die keine Unsicherheit kennt).\n",
    "\n",
    "#### Was heisst hier Ereignis ?\n",
    "\n",
    "Mit Ereignis kann zum Beispiel das Ereignis gemeint sein, dass ein Würfel bei einem bestimmten Würfelwurf eine 1 zeigt, dass ein Pfeil eine Scheibe trifft. \n",
    "\n",
    "In jedem Fall ist ein Ereignis etwas das entweder eintrifft oder nicht. Es gibt kein dazwischen. \n",
    "\n",
    "Darüber ob es eintrifft kann man unsicher sein. Das kann der Fall sein wenn man über unvollständige Informationen verfügt oder wenn es sich um ein Ereignis handelt das noch in der Zukunft liegt, und dessen Ausgang vom Zufall bestimmt wird (wie ein idealisierter Würfelwurf).\n",
    "\n",
    "#### Interpretation einer Wahrscheinlichkeit\n",
    "\n",
    "Man kann eine Wahrscheinlichkeit als einen Prozentwert interpretieren, der den eigenen Glauben darüber angibt in *welchem Anteil aller möglichen Welten das entsprechende Ereignis eintritt*. \n",
    "\n",
    "Wobei jede einzelne *mögliche Welt*, auch wenn es eine unendliche Anzahl davon geben sollte, gleich plausibel bzw. möglich ist. \n",
    "\n",
    "Diese Interpretation ist potentiell auf philosophischer Ebene kontrovers, daher sollte man sie nur als Gedankenstütze verwenden. \n",
    "\n",
    "###### Wie kann man in diesem Zusammenhang \"mögliche Welt\" verstehen ?\n",
    "\n",
    "Damit ist eine mögliche Kombination aus Zuständen gemeint, die möglich ist. Also im Grunde jede *mögliche Kombination* aus Ereignissen die jeweils eintreffen oder nicht eintreffen, definiert hier eine mögliche Welt.\n",
    "\n",
    "### Die Axiome der Wahrscheinlichkeitsrechnung\n",
    "\n",
    "Das folgende sind Eigenschaften der Wahrscheinlichkeitsrechnung die sozusagen vorausgesetzt werden müssen, damit das ganze funktioniert, und die Eigenschaft hat dass man nicht übers Ohr gehauen werden kann:\n",
    "\n",
    "1.) Eine Wahrscheinlichkeit ist eine Zahl zwischen 0 und 1 (inklusiv)\n",
    "\n",
    "2.) Die Summe der Wahrscheinlichkeit aller möglichen sich jeweils gegenseitig ausschliessenden Ereignisse ist 1\n",
    "\n",
    "3.) Können zwei Ereignisse A *und* B nicht gleichzeitig wahr sein, dann gilt:\n",
    "Die Wahrscheinlichkeit dass A *oder* B wahr ist, beträgt genau die Wahrscheinlichkeit von A plus die Wahrscheinlichkeit von B\n",
    "\n",
    "### Was bedeutet P(A) oder P(x=3) ?\n",
    "\n",
    "Für die Wahrscheinlichkeit eines Ereignisses verwendet man die Notation $ P(A) $. D.h. $ P(A) $ ist die Wahrscheinlichkeit dass Ereignis A (was auch immer das ist. Es ist an dieser Stelle ein Platzhalter) eintrifft.\n",
    "\n",
    "Manchmal schreibt man auch etwas wie $ P(x=3) $. Damit ist dann die Wahrscheinlichkeit gemeint dass $ x = 3 $ ist. Entsprechend kann man auch schreiben $ P(x<3) $ für die Wahrscheinlichkeit dass P kleiner 3 ist. \n",
    "\n",
    "$ x $ hingegen könnte zum Beispiel das Ergebnis eines Würfelwurfs sein.\n",
    "\n",
    "Hier ist wichtig zu beachten:\n",
    "\n",
    " * Wenn $ x $ das Ergebnis eines Würfelwurfs ist, könnte es theoretisch eine beliebige Anzahl von Werten annehmen.\n",
    " * Die Aussage $ x = 3 $ kann hingegen nur wahr oder falsch sein. Daher ist es ein Ereignis wenn es wahr ist.\n",
    "\n",
    "### Was bedeutet P(A | B) oder P(x=3 | B) ?\n",
    "\n",
    "Man verwendet die Notation $ P(A | B ) $ um den verbleibenden Grad der Unsicherheit anzugeben, ob ein Ereignis A wahr ist, wenn man schon weiss ob das Ereignis B wahr ist. Das nennt man eine *bedingte* Wahrscheinlichkeit, und man kann es als die \"Wahrscheinlichkeit von A gegeben B\" lesen. \n",
    "\n",
    "### Unabhängige Ereignisse\n",
    "\n",
    "Wenn zwei Ereignisse A und B sich nicht beeinflussen können dann sagt man, sie sind *unabhängig*. \n",
    "\n",
    "Das bedeutet insbesondere auch, dass die Wahrscheinlichkeit von A gegeben B gleich der Wahrscheinlichkeit von A ist. D.h. das Wissen ob B wahr ist oder nicht hat keinen Einfluss auf den Grad meiner Unsicherheit ob das Ereignis A eintrifft oder nicht.\n",
    "\n",
    "In der Notation von oben würde das also heissen:\n",
    "\n",
    "$$ P( A | B ) = P ( A ) $$\n",
    "\n",
    "und\n",
    "\n",
    "$$ P( B | A ) = P ( B ) $$\n",
    "\n",
    "Wenn das der Fall ist, dann kann man die Wahrscheinlichkeit dass sowohl A als auch B wahr sind, einfach berechnen indem man ihre Wahrscheinlichkeiten multipliziert.\n",
    "\n",
    "$$ P (\\text{A und B}) = P(A) \\cdot P(B) $$\n",
    "\n",
    "#### Warum ist das so ?\n",
    "\n",
    "Nehmen wir an, wir wollen zwei mal hintereinander eine Münze werfen. Wenn wir uns jetzt vorstellen wie sich die Zukunft entfalten kann, dann verzweigt sie sich mit jeder Entscheidung die fällt.\n",
    "\n",
    "\n"
   ]
  },
  {
   "cell_type": "markdown",
   "metadata": {},
   "source": [
    "### Beispiel: Unabhängige Würfelwürfe eines W4 und eines W3"
   ]
  },
  {
   "cell_type": "code",
   "execution_count": 89,
   "metadata": {
    "collapsed": false
   },
   "outputs": [
    {
     "data": {
      "application/javascript": [
       "element.append('<p id=\"chart\">');"
      ],
      "text/plain": [
       "<IPython.core.display.Javascript object>"
      ]
     },
     "metadata": {},
     "output_type": "display_data"
    }
   ],
   "source": [
    "%%javascript\n",
    "element.append('<p id=\"chart\">');\n"
   ]
  },
  {
   "cell_type": "code",
   "execution_count": null,
   "metadata": {
    "collapsed": true
   },
   "outputs": [],
   "source": []
  },
  {
   "cell_type": "markdown",
   "metadata": {},
   "source": [
    "##### Erläuterung des Beispiel-Diagramms\n",
    "\n",
    "Wir werfen zwei Würfel, einen W4 (genannt D1) und einen W3 (genannt D2) hintereinander.  Die Breite der Pfade zeigt die Wahrscheinlichkeit an. \n",
    "\n",
    "Man sieht gut, wie sich die Pfade möglicher Entwicklungen aufsplitten.\n",
    "\n",
    "Die 4 möglichen Ergebnisse des ersten Würfelwurfs spiegeln sich in den vier ersten Blöcken (D1=...) jeweils gleicher Wahrscheinlichkeit von $ \\frac{1}{4} $ wieder.\n",
    "\n",
    "In der zweiten Ebene werden diese 4 Möglichkeiten weiter aufgespalten in jeweils 3 weitere, so dass sich 4*3 = 12 Blöcke, jeweils gleicher Wahrscheinlichkeit von $ \\frac{1}{12} $ ergeben.\n",
    "\n",
    "In der letzten Ebene schauen wir einfach nur, welche Pfade jeweils zu einem Ergebnis mit einer bestimmten Summe führen. Man sieht gut, dass es nur 1 Pfad gibt der zu einer Summe von 2 führt, allerdings gibt es 3 Pfade die zu einer Summe von 4 führen. Entsprechend ist es 3 mal wahrscheinlicher hier in der Summe eine 4 zu würfeln als eine 2.\n",
    "\n",
    "Da wir aus der vorherigen Ebene bereits wissen, dass jeder einzelne Pfad einer Wahrscheinlichkeit von $ \\frac{1}{12} $ entspricht, ergibt sich für die Wahrscheinlichkeit dass die Summe der Würfelwürfe genau 4 beträgt die folgende Wahrscheinlichkeit:\n",
    "\n",
    "$$ P(\\text{Summe=4}) = \\frac{1}{12} + \\frac{1}{12}  + \\frac{1}{12} = 3 \\cdot \\frac{1}{12}  = \\frac{3}{12} = \\frac{1}{4} = 25\\% $$ \n",
    "\n"
   ]
  },
  {
   "cell_type": "markdown",
   "metadata": {},
   "source": [
    "## Die Binomialverteilung\n",
    "\n",
    "Die sogenannte Binomialverteilung ist eine mathematische Funktion, welche die Wahrscheinlichkeit berechnet, dass man genau **k** Erfolge erzielt, wenn man **N** unabhängige Zufallsexperimente macht bei denen jeweils mit *immer der gleichen Wahrscheinlichkeit* **p** nur eines von 2 möglichen Ergebnissen herauskommen kann (entweder Erfolg oder Misserfolg).\n",
    "\n",
    "Die Variablen **k** (Anzahl der Erfolge), **N** (Anzahl der Experimente) und **p** (Erfolgswahrscheinlichkeit eines einzelnen Experiments) sind dabei die Parameter der Funktion.\n",
    "\n",
    "Es versteht sich von selbst dass **k** eine ganze Zahl zwischen 0 und **N** sein muss, da man wenn man **N** Experimente macht, man auch maximal **N** Erfolge erzielen kann. \n",
    "\n",
    "Aus diesem Grund kann man einfach für gegebenes **N** und gegebenes **p** ein die Werte als Diagramm ausgebenwelches die Wahrscheinlichkeit angibt dass **k** Erfolge erzielt werden:\n",
    "\n",
    "\n",
    "\n"
   ]
  },
  {
   "cell_type": "code",
   "execution_count": 93,
   "metadata": {
    "collapsed": false
   },
   "outputs": [],
   "source": [
    "from matplotlib import pylab as plt\n",
    "import numpy as np\n",
    "from scipy.stats import binom as binomial_distribution\n",
    "%matplotlib inline"
   ]
  },
  {
   "cell_type": "code",
   "execution_count": 115,
   "metadata": {
    "collapsed": false
   },
   "outputs": [
    {
     "data": {
      "image/png": "[encoded data removed]",
      "text/plain": [
       "<matplotlib.figure.Figure at 0x7f2cde63f4d0>"
      ]
     },
     "metadata": {},
     "output_type": "display_data"
    },
    {
     "data": {
      "image/png": "[encoded data removed]",
      "text/plain": [
       "<matplotlib.figure.Figure at 0x7f2cde6f3210>"
      ]
     },
     "metadata": {},
     "output_type": "display_data"
    },
    {
     "data": {
      "image/png": "[encoded data removed]",
      "text/plain": [
       "<matplotlib.figure.Figure at 0x7f2cde7ce550>"
      ]
     },
     "metadata": {},
     "output_type": "display_data"
    },
    {
     "data": {
      "image/png": "[encoded data removed]",
      "text/plain": [
       "<matplotlib.figure.Figure at 0x7f2cded5b650>"
      ]
     },
     "metadata": {},
     "output_type": "display_data"
    },
    {
     "data": {
      "image/png": "[encoded data removed]",
      "text/plain": [
       "<matplotlib.figure.Figure at 0x7f2cdebdc910>"
      ]
     },
     "metadata": {},
     "output_type": "display_data"
    }
   ],
   "source": [
    "def plot_binomial(p,N):\n",
    "    k = np.array(range(0,N+1), dtype=np.int32)\n",
    "    pk = binomial_distribution( n=N,p=p).pmf(k)\n",
    "\n",
    "    plt.Figure(figsize=(16,16))\n",
    "    plt.bar(k, pk, 1.0)\n",
    "    plt.xlabel('k Erfolge')\n",
    "    plt.ylabel('Wahrscheinlichkeit')\n",
    "    plt.title(\"%d Experimente mit jeweils Wahrscheinlichkeit %0.2f%%\" % (N, 100.0*p))\n",
    "    plt.show()\n",
    "\n",
    "plot_binomial(0.5, 10)\n",
    "plot_binomial(0.5, 20)\n",
    "plot_binomial(0.5, 40)\n",
    "plot_binomial(0.1, 100)\n",
    "plot_binomial(0.04, 100)"
   ]
  },
  {
   "cell_type": "code",
   "execution_count": null,
   "metadata": {
    "collapsed": true
   },
   "outputs": [],
   "source": []
  },
  {
   "cell_type": "code",
   "execution_count": 5,
   "metadata": {
    "collapsed": true
   },
   "outputs": [],
   "source": [
    "import networkx as nx"
   ]
  },
  {
   "cell_type": "code",
   "execution_count": 84,
   "metadata": {
    "collapsed": false
   },
   "outputs": [],
   "source": [
    "dice_types = [4,3]\n",
    "\n",
    "G = nx.DiGraph()\n",
    "start = 'Start'\n",
    "G.add_node('Start', { 'p' : 1.0, 'label' : 'Start' } )\n",
    "\n",
    "\n",
    "def build_dice_graph( G, parent, dice_types, dice_idx=1):\n",
    "    result = []\n",
    "    for dice_result in range(1, dice_types[0]+1):\n",
    "            label = 'D%d=%d' % (dice_idx, dice_result)\n",
    "            if (parent!=start):\n",
    "                nodeid = '%s , %s' % (parent, label)\n",
    "            else:\n",
    "                nodeid = label\n",
    "            \n",
    "            G.add_node(nodeid, { 'dice_result' : dice_result, 'p' : G.node[parent]['p']/dice_types[0], 'label' : nodeid})\n",
    "            edge = G.add_edge(parent, nodeid, {\"p\" : G.node[parent]['p']/dice_types[0] })\n",
    "            if (len(dice_types)>1):\n",
    "                result += build_dice_graph(G, nodeid, dice_types[1:], dice_idx+1)\n",
    "            else:\n",
    "                result += [nodeid]\n",
    "    return result\n",
    "\n",
    "def add_sum_nodes(G, leaf_nodes):\n",
    "        nodes = leaf_nodes\n",
    "        sums = set()\n",
    "        for n in nodes:\n",
    "            nsum = 0\n",
    "            np = n\n",
    "            visited = set([n])\n",
    "            p = G.node[np]['p']\n",
    "            \n",
    "            while n!=start:\n",
    "                result = G.node[n]['dice_result']\n",
    "                nsum+=result\n",
    "                in_edges = G.in_edges(n)\n",
    "                if (len(in_edges)>0):\n",
    "                    n2 = in_edges[0][0]\n",
    "                    n = n2\n",
    "            nodeid = 'Summe=%d' % (nsum)\n",
    "            if (not G.has_node(nodeid)):\n",
    "                G.add_node(nodeid, { 'p' : p, 'label' : nodeid})\n",
    "            else:\n",
    "                G.node[nodeid]['p'] = G.node[nodeid]['p'] + p\n",
    "            G.add_edge(np, nodeid, {'p' : p})\n",
    "            \n",
    "        \n",
    "leaf_nodes = build_dice_graph(G, start, dice_types)          \n",
    "\n",
    "add_sum_nodes(G, leaf_nodes)\n",
    "\n"
   ]
  },
  {
   "cell_type": "code",
   "execution_count": 85,
   "metadata": {
    "collapsed": false
   },
   "outputs": [],
   "source": [
    "from networkx.readwrite import json_graph\n",
    "import json\n",
    "jg = json_graph.node_link_data(G)\n"
   ]
  },
  {
   "cell_type": "code",
   "execution_count": 86,
   "metadata": {
    "collapsed": false,
    "scrolled": true
   },
   "outputs": [
    {
     "data": {
      "application/javascript": [
       "\n",
       "           window.energy={\"directed\": true, \"graph\": {}, \"nodes\": [{\"p\": 0.08333333333333333, \"dice_result\": 3, \"id\": \"D1=1 , D2=3\", \"label\": \"D1=1 , D2=3\"}, {\"p\": 0.08333333333333333, \"dice_result\": 2, \"id\": \"D1=1 , D2=2\", \"label\": \"D1=1 , D2=2\"}, {\"p\": 0.08333333333333333, \"dice_result\": 1, \"id\": \"D1=1 , D2=1\", \"label\": \"D1=1 , D2=1\"}, {\"p\": 1.0, \"id\": \"Start\", \"label\": \"Start\"}, {\"p\": 0.25, \"dice_result\": 2, \"id\": \"D1=2\", \"label\": \"D1=2\"}, {\"p\": 0.25, \"dice_result\": 3, \"id\": \"D1=3\", \"label\": \"D1=3\"}, {\"p\": 0.25, \"dice_result\": 1, \"id\": \"D1=1\", \"label\": \"D1=1\"}, {\"p\": 0.25, \"dice_result\": 4, \"id\": \"D1=4\", \"label\": \"D1=4\"}, {\"p\": 0.16666666666666666, \"id\": \"Summe=6\", \"label\": \"Summe=6\"}, {\"p\": 0.08333333333333333, \"id\": \"Summe=7\", \"label\": \"Summe=7\"}, {\"p\": 0.16666666666666666, \"id\": \"Summe=3\", \"label\": \"Summe=3\"}, {\"p\": 0.25, \"id\": \"Summe=5\", \"label\": \"Summe=5\"}, {\"p\": 0.25, \"id\": \"Summe=4\", \"label\": \"Summe=4\"}, {\"p\": 0.08333333333333333, \"dice_result\": 2, \"id\": \"D1=2 , D2=2\", \"label\": \"D1=2 , D2=2\"}, {\"p\": 0.08333333333333333, \"dice_result\": 3, \"id\": \"D1=2 , D2=3\", \"label\": \"D1=2 , D2=3\"}, {\"p\": 0.08333333333333333, \"id\": \"Summe=2\", \"label\": \"Summe=2\"}, {\"p\": 0.08333333333333333, \"dice_result\": 1, \"id\": \"D1=2 , D2=1\", \"label\": \"D1=2 , D2=1\"}, {\"p\": 0.08333333333333333, \"dice_result\": 1, \"id\": \"D1=4 , D2=1\", \"label\": \"D1=4 , D2=1\"}, {\"p\": 0.08333333333333333, \"dice_result\": 2, \"id\": \"D1=4 , D2=2\", \"label\": \"D1=4 , D2=2\"}, {\"p\": 0.08333333333333333, \"dice_result\": 3, \"id\": \"D1=4 , D2=3\", \"label\": \"D1=4 , D2=3\"}, {\"p\": 0.08333333333333333, \"dice_result\": 1, \"id\": \"D1=3 , D2=1\", \"label\": \"D1=3 , D2=1\"}, {\"p\": 0.08333333333333333, \"dice_result\": 3, \"id\": \"D1=3 , D2=3\", \"label\": \"D1=3 , D2=3\"}, {\"p\": 0.08333333333333333, \"dice_result\": 2, \"id\": \"D1=3 , D2=2\", \"label\": \"D1=3 , D2=2\"}], \"links\": [{\"p\": 0.08333333333333333, \"target\": 12, \"source\": 0}, {\"p\": 0.08333333333333333, \"target\": 10, \"source\": 1}, {\"p\": 0.08333333333333333, \"target\": 15, \"source\": 2}, {\"p\": 0.25, \"target\": 4, \"source\": 3}, {\"p\": 0.25, \"target\": 5, \"source\": 3}, {\"p\": 0.25, \"target\": 6, \"source\": 3}, {\"p\": 0.25, \"target\": 7, \"source\": 3}, {\"p\": 0.08333333333333333, \"target\": 13, \"source\": 4}, {\"p\": 0.08333333333333333, \"target\": 14, \"source\": 4}, {\"p\": 0.08333333333333333, \"target\": 16, \"source\": 4}, {\"p\": 0.08333333333333333, \"target\": 20, \"source\": 5}, {\"p\": 0.08333333333333333, \"target\": 21, \"source\": 5}, {\"p\": 0.08333333333333333, \"target\": 22, \"source\": 5}, {\"p\": 0.08333333333333333, \"target\": 0, \"source\": 6}, {\"p\": 0.08333333333333333, \"target\": 1, \"source\": 6}, {\"p\": 0.08333333333333333, \"target\": 2, \"source\": 6}, {\"p\": 0.08333333333333333, \"target\": 17, \"source\": 7}, {\"p\": 0.08333333333333333, \"target\": 18, \"source\": 7}, {\"p\": 0.08333333333333333, \"target\": 19, \"source\": 7}, {\"p\": 0.08333333333333333, \"target\": 12, \"source\": 13}, {\"p\": 0.08333333333333333, \"target\": 11, \"source\": 14}, {\"p\": 0.08333333333333333, \"target\": 10, \"source\": 16}, {\"p\": 0.08333333333333333, \"target\": 11, \"source\": 17}, {\"p\": 0.08333333333333333, \"target\": 8, \"source\": 18}, {\"p\": 0.08333333333333333, \"target\": 9, \"source\": 19}, {\"p\": 0.08333333333333333, \"target\": 12, \"source\": 20}, {\"p\": 0.08333333333333333, \"target\": 8, \"source\": 21}, {\"p\": 0.08333333333333333, \"target\": 11, \"source\": 22}], \"multigraph\": false};\n",
       "           "
      ],
      "text/plain": [
       "<IPython.core.display.Javascript object>"
      ]
     },
     "execution_count": 86,
     "metadata": {},
     "output_type": "execute_result"
    }
   ],
   "source": [
    "from IPython.display import Javascript, display\n",
    "\n",
    "\n",
    "Javascript(\"\"\"\n",
    "           window.energy={};\n",
    "           \"\"\".format(json.dumps(jg)))"
   ]
  },
  {
   "cell_type": "code",
   "execution_count": null,
   "metadata": {
    "collapsed": true
   },
   "outputs": [],
   "source": []
  },
  {
   "cell_type": "code",
   "execution_count": 90,
   "metadata": {
    "collapsed": false
   },
   "outputs": [
    {
     "data": {
      "application/javascript": [
       "\n",
       "\n",
       "    var margin = {top: 1, right: 1, bottom: 6, left: 1};\n",
       "    var _width = 960 - margin.left - margin.right;\n",
       "    var _height = 500 - margin.top - margin.bottom;\n",
       "    var width=_width;\n",
       "    var height=_height;\n",
       "    var formatNumber = d3.format(\",.1f\"),\n",
       "        format = function(d) { return formatNumber(d) + \"\"; },\n",
       "        color = d3.scale.category20();\n",
       "\n",
       "    var svg = d3.select(\"#chart\").append(\"svg\")\n",
       "        .attr(\"width\", _width + margin.left + margin.right)\n",
       "        .attr(\"height\", _height + margin.top + margin.bottom)\n",
       "      .append(\"g\")\n",
       "        .attr(\"transform\", \"translate(\" + margin.left + \",\" + margin.top + \")\");\n",
       "\n",
       "    var sankey = d3.sankey()\n",
       "        .nodeWidth(15)\n",
       "        .nodePadding(10)\n",
       "        .size([_width, _height]);\n",
       "\n",
       "    var path = sankey.link();\n",
       "    console.log(path);\n",
       "\n",
       "\n",
       "    function plot_sankey(energy) {\n",
       "\n",
       "      for (var i=0;i<energy.nodes.length;i++) {\n",
       "        energy.nodes[i].value = energy.nodes[i].p;\n",
       "      }\n",
       "\n",
       "      for (var i=0;i<energy.links.length;i++) {\n",
       "        energy.links[i].value = energy.links[i].p;\n",
       "      }\n",
       "      \n",
       "      sankey\n",
       "          .nodes(energy.nodes)\n",
       "          .links(energy.links)\n",
       "          .layout(32);\n",
       "\n",
       "      var link = svg.append(\"g\").selectAll(\".link\")\n",
       "          .data(energy.links)\n",
       "        .enter().append(\"path\")\n",
       "          .attr(\"class\", \"link\")\n",
       "          .attr(\"d\", path)\n",
       "          .style(\"stroke-width\", function(d) { return Math.max(1, d.dy); })\n",
       "          .sort(function(a, b) { return b.dy - a.dy; });\n",
       "\n",
       "      link.append(\"title\")\n",
       "          .text(function(d) { return d.source.label + \" → \" + d.target.label + \"\\n\" + format(100.0*d.p) + \"%\"; });\n",
       "\n",
       "      var node = svg.append(\"g\").selectAll(\".node\")\n",
       "          .data(energy.nodes)\n",
       "        .enter().append(\"g\")\n",
       "          .attr(\"class\", \"node\")\n",
       "          .attr(\"transform\", function(d) { return \"translate(\" + d.x + \",\" + d.y + \")\"; })\n",
       "        .call(d3.behavior.drag()\n",
       "          .origin(function(d) { return d; })\n",
       "          .on(\"dragstart\", function() { this.parentNode.appendChild(this); })\n",
       "          .on(\"drag\", dragmove));\n",
       "\n",
       "      node.append(\"rect\")\n",
       "          .attr(\"height\", function(d) { return d.dy; })\n",
       "          .attr(\"width\", sankey.nodeWidth())\n",
       "          .style(\"fill\", function(d) { return d.color = color(d.id.replace(/ .*/, \"\")); })\n",
       "          .style(\"stroke\", function(d) { return d3.rgb(d.color).darker(2); })\n",
       "        .append(\"title\")\n",
       "          .text(function(d) { return d.id + \"\\nP=\" + format(100.0*d.p) + \"%\" ;});\n",
       "\n",
       "      node.append(\"text\")\n",
       "          .attr(\"x\", -6)\n",
       "          .attr(\"y\", function(d) { return d.dy / 2; })\n",
       "          .attr(\"dy\", \".35em\")\n",
       "          .attr(\"text-anchor\", \"end\")\n",
       "          .attr(\"transform\", null)\n",
       "          .text(function(d) { return d.label; })\n",
       "        .filter(function(d) { return d.x < _width / 2; })\n",
       "          .attr(\"x\", 6 + sankey.nodeWidth())\n",
       "          .attr(\"text-anchor\", \"start\");\n",
       "\n",
       "      function dragmove(d) {\n",
       "        d3.select(this).attr(\"transform\", \"translate(\" + d.x + \",\" + (d.y = Math.max(0, Math.min(height - d.dy, d3.event.y))) + \")\");\n",
       "        sankey.relayout();\n",
       "        link.attr(\"d\", path);\n",
       "      }\n",
       "    };\n",
       "    plot_sankey(energy);\n",
       "\n"
      ],
      "text/plain": [
       "<IPython.core.display.Javascript object>"
      ]
     },
     "metadata": {},
     "output_type": "display_data"
    }
   ],
   "source": [
    "%%javascript\n",
    "\n",
    "\n",
    "    var margin = {top: 1, right: 1, bottom: 6, left: 1};\n",
    "    var _width = 960 - margin.left - margin.right;\n",
    "    var _height = 500 - margin.top - margin.bottom;\n",
    "    var width=_width;\n",
    "    var height=_height;\n",
    "    var formatNumber = d3.format(\",.1f\"),\n",
    "        format = function(d) { return formatNumber(d) + \"\"; },\n",
    "        color = d3.scale.category20();\n",
    "\n",
    "    var svg = d3.select(\"#chart\").append(\"svg\")\n",
    "        .attr(\"width\", _width + margin.left + margin.right)\n",
    "        .attr(\"height\", _height + margin.top + margin.bottom)\n",
    "      .append(\"g\")\n",
    "        .attr(\"transform\", \"translate(\" + margin.left + \",\" + margin.top + \")\");\n",
    "\n",
    "    var sankey = d3.sankey()\n",
    "        .nodeWidth(15)\n",
    "        .nodePadding(10)\n",
    "        .size([_width, _height]);\n",
    "\n",
    "    var path = sankey.link();\n",
    "    console.log(path);\n",
    "\n",
    "\n",
    "    function plot_sankey(energy) {\n",
    "\n",
    "      for (var i=0;i<energy.nodes.length;i++) {\n",
    "        energy.nodes[i].value = energy.nodes[i].p;\n",
    "      }\n",
    "\n",
    "      for (var i=0;i<energy.links.length;i++) {\n",
    "        energy.links[i].value = energy.links[i].p;\n",
    "      }\n",
    "      \n",
    "      sankey\n",
    "          .nodes(energy.nodes)\n",
    "          .links(energy.links)\n",
    "          .layout(32);\n",
    "\n",
    "      var link = svg.append(\"g\").selectAll(\".link\")\n",
    "          .data(energy.links)\n",
    "        .enter().append(\"path\")\n",
    "          .attr(\"class\", \"link\")\n",
    "          .attr(\"d\", path)\n",
    "          .style(\"stroke-width\", function(d) { return Math.max(1, d.dy); })\n",
    "          .sort(function(a, b) { return b.dy - a.dy; });\n",
    "\n",
    "      link.append(\"title\")\n",
    "          .text(function(d) { return d.source.label + \" → \" + d.target.label + \"\\n\" + format(100.0*d.p) + \"%\"; });\n",
    "\n",
    "      var node = svg.append(\"g\").selectAll(\".node\")\n",
    "          .data(energy.nodes)\n",
    "        .enter().append(\"g\")\n",
    "          .attr(\"class\", \"node\")\n",
    "          .attr(\"transform\", function(d) { return \"translate(\" + d.x + \",\" + d.y + \")\"; })\n",
    "        .call(d3.behavior.drag()\n",
    "          .origin(function(d) { return d; })\n",
    "          .on(\"dragstart\", function() { this.parentNode.appendChild(this); })\n",
    "          .on(\"drag\", dragmove));\n",
    "\n",
    "      node.append(\"rect\")\n",
    "          .attr(\"height\", function(d) { return d.dy; })\n",
    "          .attr(\"width\", sankey.nodeWidth())\n",
    "          .style(\"fill\", function(d) { return d.color = color(d.id.replace(/ .*/, \"\")); })\n",
    "          .style(\"stroke\", function(d) { return d3.rgb(d.color).darker(2); })\n",
    "        .append(\"title\")\n",
    "          .text(function(d) { return d.id + \"\\nP=\" + format(100.0*d.p) + \"%\" ;});\n",
    "\n",
    "      node.append(\"text\")\n",
    "          .attr(\"x\", -6)\n",
    "          .attr(\"y\", function(d) { return d.dy / 2; })\n",
    "          .attr(\"dy\", \".35em\")\n",
    "          .attr(\"text-anchor\", \"end\")\n",
    "          .attr(\"transform\", null)\n",
    "          .text(function(d) { return d.label; })\n",
    "        .filter(function(d) { return d.x < _width / 2; })\n",
    "          .attr(\"x\", 6 + sankey.nodeWidth())\n",
    "          .attr(\"text-anchor\", \"start\");\n",
    "\n",
    "      function dragmove(d) {\n",
    "        d3.select(this).attr(\"transform\", \"translate(\" + d.x + \",\" + (d.y = Math.max(0, Math.min(height - d.dy, d3.event.y))) + \")\");\n",
    "        sankey.relayout();\n",
    "        link.attr(\"d\", path);\n",
    "      }\n",
    "    };\n",
    "    plot_sankey(energy);\n",
    "\n",
    "\n"
   ]
  }
 ],
 "metadata": {
  "kernelspec": {
   "display_name": "Python 2",
   "language": "python",
   "name": "python2"
  },
  "language_info": {
   "codemirror_mode": {
    "name": "ipython",
    "version": 2
   },
   "file_extension": ".py",
   "mimetype": "text/x-python",
   "name": "python",
   "nbconvert_exporter": "python",
   "pygments_lexer": "ipython2",
   "version": "2.7.6"
  }
 },
 "nbformat": 4,
 "nbformat_minor": 0
}
